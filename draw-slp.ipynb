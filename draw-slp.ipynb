{
 "cells": [
  {
   "cell_type": "markdown",
   "metadata": {},
   "source": [
    "## 使用预报数据画海平面气压和10米风场图\n",
    "### 1. 库的导入及一些基本设置"
   ]
  },
  {
   "cell_type": "code",
   "execution_count": null,
   "metadata": {},
   "outputs": [],
   "source": [
    "import sys\n",
    "sys.path.append(\"/autodl-fs/data/examples\")\n",
    "import xarray as xr\n",
    "from maptool import MapManager, np, plt\n",
    "import pandas as pd\n"
   ]
  },
  {
   "cell_type": "code",
   "execution_count": null,
   "metadata": {},
   "outputs": [],
   "source": [
    "model_name = \"pangu\" # 使用的模型\n",
    "filepath = \"/autodl-fs/data\" # ERA5数据文件的路径\n",
    "savepath = f\"/root/autodl-tmp/result_{model_name}\" # 结果保存路径\n",
    "filename = f\"{model_name}2022090718_lead32.nc\" # 要读取的预测数据文件\n",
    "target_time = (\"20220908 06:00\", \"20220910 06:00\", \"20220912 06:00\", \n",
    "               \"20220913 06:00\", \"20220914 06:00\", \"20220915 06:00\", ) #要画图的时刻\n",
    "\n",
    "time = pd.DatetimeIndex(target_time)"
   ]
  },
  {
   "cell_type": "markdown",
   "metadata": {},
   "source": [
    "### 2. 读取ERA5数据作为观测真值"
   ]
  },
  {
   "cell_type": "code",
   "execution_count": null,
   "metadata": {},
   "outputs": [],
   "source": [
    "ds = xr.open_dataset(f\"{filepath}/9_surface.nc\").sortby(\"latitude\")\n",
    "ds = ds.sel(longitude=slice(90, 140), latitude=slice(10, 40), time=time)\n",
    "u, v = ds.u10.data, ds.v10.data\n",
    "lon, lat, slp = ds.longitude.data, ds.latitude.data, ds.msl.data"
   ]
  },
  {
   "cell_type": "code",
   "execution_count": null,
   "metadata": {},
   "outputs": [],
   "source": [
    "fig = plt.figure(figsize=(16, 8))\n",
    "\n",
    "for i in range(2):\n",
    "    for j in range(3):\n",
    "        n = i * 3 + j\n",
    "        ax = plt.subplot(2, 3, n + 1)\n",
    "        m = MapManager(ax)\n",
    "        m.extent([90, 140, 10, 40])\n",
    "        m.add_provinces(lw=0.9, color='gray')\n",
    "        c = ax.contourf(lon, lat, slp[n]/100, levels=np.arange(1004, 1028, 2), cmap=plt.cm.RdYlBu, extend=\"both\")\n",
    "        m.quiver(lon, lat, u[n], v[n], skip = 6)\n",
    "        plt.title(target_time[n])\n",
    "        plt.colorbar(c)"
   ]
  },
  {
   "cell_type": "markdown",
   "metadata": {},
   "source": [
    "### 3. 读取预测数据并可视化"
   ]
  },
  {
   "cell_type": "code",
   "execution_count": null,
   "metadata": {},
   "outputs": [],
   "source": [
    "ds = xr.open_dataset(f\"{savepath}/{filename}\").sortby(\"lat\")\n",
    "ds = ds.sel(lon=slice(90, 140), lat=slice(10, 40), time=time)\n",
    "u, v = ds.u10.data, ds.v10.data\n",
    "lon, lat, slp = ds.lon.data, ds.lat.data, ds.msl.data"
   ]
  },
  {
   "cell_type": "code",
   "execution_count": null,
   "metadata": {},
   "outputs": [],
   "source": [
    "fig = plt.figure(figsize=(16, 8))\n",
    "\n",
    "for i in range(2):\n",
    "    for j in range(3):\n",
    "        n = i * 3 + j\n",
    "        ax = plt.subplot(2, 3, n + 1)\n",
    "        m = MapManager(ax)\n",
    "        m.extent([90, 140, 10, 40])\n",
    "        m.add_provinces(lw=0.9, color='gray')\n",
    "        c = ax.contourf(lon, lat, slp[n]/100, levels=np.arange(1004, 1028, 2), cmap=plt.cm.RdYlBu, extend=\"both\")\n",
    "        m.quiver(lon, lat, u[n], v[n], skip = 6)\n",
    "        plt.title(target_time[n])\n",
    "        plt.colorbar(c)"
   ]
  }
 ],
 "metadata": {
  "language_info": {
   "name": "python"
  }
 },
 "nbformat": 4,
 "nbformat_minor": 2
}
