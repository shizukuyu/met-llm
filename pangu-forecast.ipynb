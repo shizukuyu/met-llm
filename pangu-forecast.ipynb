{
 "cells": [
  {
   "cell_type": "markdown",
   "metadata": {},
   "source": [
    "## 使用盘古预报\n",
    "### 1. 库的导入及一些基本设置"
   ]
  },
  {
   "cell_type": "code",
   "execution_count": null,
   "metadata": {},
   "outputs": [],
   "source": [
    "import os\n",
    "import xarray as xr\n",
    "import numpy as np\n",
    "\n",
    "filepath = \"/autodl-fs/data\" # ERA5数据文件的路径\n",
    "model_path = \"/autodl-fs/data/pangu\" # 盘古的onnx模型文件所在路径\n",
    "forecast_start_time = \"2022-9-7 18:00\" # 起报时间\n",
    "savepath = \"/root/autodl-tmp/result_pangu\" # 结果保存路径\n",
    "run_time_step = 32 # 运行的时间步长"
   ]
  },
  {
   "cell_type": "markdown",
   "metadata": {},
   "source": [
    "### 2. 读取并处理数据，并保存处理出来的数据"
   ]
  },
  {
   "cell_type": "code",
   "execution_count": null,
   "metadata": {},
   "outputs": [],
   "source": [
    "levels = np.array([1000, 925, 850, 700, 600, 500, 400, 300, 250, 200, 150, 100, 50])\n",
    "ds1 = xr.open_dataset(f\"{filepath}/9_surface.nc\").sel(time=forecast_start_time)\n",
    "ds2 = xr.open_dataset(f\"{filepath}/9_high.nc\").sel(time=forecast_start_time)\n",
    "ds2 = ds2.sel(level=levels)\n",
    "\n",
    "lon, lat, level = ds2.longitude.data, ds2.latitude.data, ds2.level.data\n",
    "nlev = len(level)\n",
    "data_surf = np.stack([ds1[v].data for v in \"msl u10 v10 t2m\".split()], 0).astype(np.float32)\n",
    "data_plev = np.stack([ds2[v].data for v in \"zqtuv\"], 0).astype(np.float32)\n",
    "print(f\"{data_surf.shape=}, {data_plev.shape=}\")\n",
    "\n",
    "os.path.exists(savepath) or os.mkdir(savepath)\n",
    "np.savez(f\"{savepath}/pangu_input_data.npz\", **dict(data_surf = data_surf, data_plev = data_plev))"
   ]
  },
  {
   "cell_type": "markdown",
   "metadata": {},
   "source": [
    "### 3. 读取输入数据和加载盘古模型"
   ]
  },
  {
   "cell_type": "code",
   "execution_count": null,
   "metadata": {},
   "outputs": [],
   "source": [
    "ds = np.load(f\"{savepath}/pangu_input_data.npz\")\n",
    "input_data_surf = ds[\"data_surf\"]\n",
    "input_data_plev = ds[\"data_plev\"]"
   ]
  },
  {
   "cell_type": "code",
   "execution_count": null,
   "metadata": {},
   "outputs": [],
   "source": [
    "import onnx\n",
    "import onnxruntime as ort\n",
    "\n",
    "model = onnx.load(f\"{model_path}/pangu_weather_6.onnx\")\n",
    "\n",
    "# Set the behavier of onnxruntime\n",
    "options = ort.SessionOptions()\n",
    "options.enable_cpu_mem_arena=False\n",
    "options.enable_mem_pattern = False\n",
    "options.enable_mem_reuse = False\n",
    "# Increase the number for faster inference and more memory consumption\n",
    "options.intra_op_num_threads = 1\n",
    "\n",
    "# Set the behavier of cuda provider\n",
    "cuda_provider_options = {'arena_extend_strategy':'kSameAsRequested',}\n",
    "\n",
    "# Initialize onnxruntime session for Pangu-Weather Models\n",
    "ort_session = ort.InferenceSession(f\"{model_path}/pangu_weather_6.onnx\", sess_options=options, providers=[('CUDAExecutionProvider', cuda_provider_options)])\n"
   ]
  },
  {
   "cell_type": "markdown",
   "metadata": {},
   "source": [
    "### 4. 运行模型执行预测"
   ]
  },
  {
   "cell_type": "code",
   "execution_count": null,
   "metadata": {},
   "outputs": [],
   "source": [
    "for i in range(run_time_step):\n",
    "    output_plev, output_surface = ort_session.run(None, {'input':input_data_plev, 'input_surface':input_data_surf})\n",
    "    input_data_plev, input_data_surf = output_plev, output_surface\n",
    "    # save the results\n",
    "    np.savez(f\"{savepath}/output{i + 1:02d}.npz\", **dict(plev=output_plev, surf=output_surface))"
   ]
  },
  {
   "cell_type": "markdown",
   "metadata": {},
   "source": [
    "### 5. 对预测数据做后处理转换成nc"
   ]
  },
  {
   "cell_type": "code",
   "execution_count": null,
   "metadata": {},
   "outputs": [],
   "source": [
    "import pandas as pd\n",
    "\n",
    "time = pd.date_range(forecast_start_time, periods = run_time_step + 1, freq='6h')\n",
    "start_forecast_time = time[0].strftime(\"%Y%m%d%H\")\n",
    "\n",
    "for i in range(run_time_step):\n",
    "    file = f\"{savepath}/output{i + 1:02d}.npz\"\n",
    "    ds = np.load(file)\n",
    "    data_surf = ds[\"surf\"]\n",
    "    data_plev = ds[\"plev\"]\n",
    "    if i == 0:\n",
    "        nv, nlev, ny, nx = data_plev.shape\n",
    "        data1 = np.zeros((nv, run_time_step, nlev, ny, nx), dtype=np.float32)\n",
    "        data2 = np.zeros((4, run_time_step, ny, nx), dtype=np.float32)\n",
    "    data1[:, i] = data_plev\n",
    "    data2[:, i] = data_surf\n",
    "    os.remove(file)\n",
    "\n",
    "data_vars = {v:((\"time\", \"lat\", \"lon\"), data2[i]) for i, v in enumerate(\"msl u10 v10 t2m\".split())}\n",
    "data_vars.update({v:((\"time\", \"level\", \"lat\", \"lon\"), data1[i]) for i, v in enumerate(\"zqtuv\")})\n",
    "ds = xr.Dataset(data_vars=data_vars, coords=dict(time=((\"time\", ), time[1:]), level=((\"level\", ), level), \n",
    "                                                 lat=((\"lat\", ), lat), lon=((\"lon\", ), lon)))\n",
    "ds.to_netcdf(f\"{savepath}/pangu{start_forecast_time}_lead{run_time_step:02d}.nc\")"
   ]
  },
  {
   "cell_type": "code",
   "execution_count": null,
   "metadata": {},
   "outputs": [],
   "source": [
    "!ls -lsh /root/autodl-tmp/result_pangu"
   ]
  }
 ],
 "metadata": {
  "kernelspec": {
   "display_name": "base",
   "language": "python",
   "name": "python3"
  },
  "language_info": {
   "name": "python",
   "version": "3.9.-1"
  }
 },
 "nbformat": 4,
 "nbformat_minor": 2
}
