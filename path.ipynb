{
 "cells": [
  {
   "cell_type": "markdown",
   "metadata": {},
   "source": [
    "## 画台风移动路径图\n",
    "### 1. 库的导入及一些基本设置"
   ]
  },
  {
   "cell_type": "code",
   "execution_count": null,
   "metadata": {},
   "outputs": [],
   "source": [
    "import sys\n",
    "sys.path.append(\"/autodl-fs/data/examples\")\n",
    "import xarray as xr\n",
    "from maptool import MapManager, np, plt, SystemRecognition\n",
    "import pandas as pd"
   ]
  },
  {
   "cell_type": "code",
   "execution_count": null,
   "metadata": {},
   "outputs": [],
   "source": [
    "model_name = \"pangu\" # 使用的模型\n",
    "filepath = \"/autodl-fs/data\" # ERA5数据文件的路径\n",
    "savepath = f\"/root/autodl-tmp/result_{model_name}\" # 结果保存路径\n",
    "filename = f\"{model_name}2022090718_lead32.nc\" # 要读取的预测数据文件\n",
    "target_time_period = slice(\"20220908 06:00\", \"20220915 00:00\") #要画图的时刻"
   ]
  },
  {
   "cell_type": "markdown",
   "metadata": {},
   "source": [
    "### 2. 分别读取ERA5数据和预测数据并检测路径"
   ]
  },
  {
   "cell_type": "code",
   "execution_count": null,
   "metadata": {},
   "outputs": [],
   "source": [
    "ds = xr.open_dataset(f\"{filepath}/9_surface.nc\").sortby(\"latitude\")\n",
    "ds = ds.sel(longitude=slice(90, 140), latitude=slice(10, 40), time=target_time_period)\n",
    "\n",
    "# SystemRecognition为检测系统中心的函数，通过检测局地极值中心来识别台风中心\n",
    "# 但由于存在其它地区的低压干扰，往往容易偏，目前还没有很好的解决办法\n",
    "# 使用此方法仅供演示使用，如有错误，请自行忽略\n",
    "sr = SystemRecognition()\n",
    "tmp = ds.msl.loc[..., 120:135]\n",
    "p1 = sr.recognize_path(tmp.data, radius=2, center_status='low_equal', lat=tmp.latitude.data, lon=tmp.longitude.data, strategy='min')\n",
    "\n",
    "ds = xr.open_dataset(f\"{savepath}/{filename}\").sortby(\"lat\")\n",
    "ds = ds.sel(lon=slice(90, 140), lat=slice(10, 40), time=target_time_period)\n",
    "sr = SystemRecognition()\n",
    "tmp = ds.msl.loc[..., 120:135]\n",
    "p2 = sr.recognize_path(tmp.data, radius=8, center_status='low_equal', lat=tmp.lat.data, lon=tmp.lon.data, strategy='min')"
   ]
  },
  {
   "cell_type": "markdown",
   "metadata": {},
   "source": [
    "### 3. 画两者的路径图"
   ]
  },
  {
   "cell_type": "code",
   "execution_count": null,
   "metadata": {},
   "outputs": [],
   "source": [
    "fig = plt.figure()\n",
    "ax = plt.subplot(111)\n",
    "m = MapManager(ax)\n",
    "m.extent([90, 140, 10, 40])\n",
    "m.add_provinces(lw=0.9, color='gray')\n",
    "ax.plot(*p1[0][::-1], 'r*-', label=\"ERA5\")\n",
    "ax.plot(*p2[0][::-1], 'b*-', label=model_name)\n",
    "ax.legend()"
   ]
  }
 ],
 "metadata": {
  "kernelspec": {
   "display_name": "base",
   "language": "python",
   "name": "python3"
  },
  "language_info": {
   "codemirror_mode": {
    "name": "ipython",
    "version": 3
   },
   "file_extension": ".py",
   "mimetype": "text/x-python",
   "name": "python",
   "nbconvert_exporter": "python",
   "pygments_lexer": "ipython3",
   "version": "3.9.13"
  }
 },
 "nbformat": 4,
 "nbformat_minor": 2
}
